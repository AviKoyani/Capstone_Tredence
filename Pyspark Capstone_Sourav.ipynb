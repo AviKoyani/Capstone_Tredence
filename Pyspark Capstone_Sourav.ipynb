{
 "cells": [
  {
   "cell_type": "code",
   "execution_count": 1,
   "metadata": {},
   "outputs": [],
   "source": [
    "import findspark\n",
    "findspark.init()\n",
    "import pyspark\n",
    "sc = pyspark.SparkContext(appName='Used Cars')"
   ]
  },
  {
   "cell_type": "code",
   "execution_count": 2,
   "metadata": {},
   "outputs": [],
   "source": [
    "from pyspark.sql import SparkSession\n",
    "spark = SparkSession.builder.appName(\"Used Car Capstone\").getOrCreate()\n",
    "import pyspark.sql.functions as psf"
   ]
  },
  {
   "cell_type": "code",
   "execution_count": 80,
   "metadata": {
    "scrolled": true
   },
   "outputs": [],
   "source": [
    "usedCarDF = spark.read.load(\"result_final.csv\", format=\"csv\", sep=\",\", inferSchema=\"true\", header=\"true\")"
   ]
  },
  {
   "cell_type": "code",
   "execution_count": 81,
   "metadata": {},
   "outputs": [
    {
     "name": "stdout",
     "output_type": "stream",
     "text": [
      "+--------------------+------------+\n",
      "|                NAME|TRANSMISSION|\n",
      "+--------------------+------------+\n",
      "|Maruti Swift Dzir...|      Manual|\n",
      "|Skoda Rapid 1.5 T...|      Manual|\n",
      "|Honda City 2017-2...|      Manual|\n",
      "|Hyundai i20 Sport...|      Manual|\n",
      "|Maruti Swift VXI ...|      Manual|\n",
      "|Hyundai Xcent 1.2...|      Manual|\n",
      "|Maruti Wagon R LX...|      Manual|\n",
      "|  Maruti 800 DX BSII|      Manual|\n",
      "|    Toyota Etios VXD|      Manual|\n",
      "|Ford Figo Diesel ...|      Manual|\n",
      "|Renault Duster 11...|      Manual|\n",
      "|       Maruti Zen LX|      Manual|\n",
      "|Maruti Swift Dzir...|      Manual|\n",
      "|Maruti Wagon R LX...|      Manual|\n",
      "|Mahindra KUV 100 ...|      Manual|\n",
      "|Maruti Ertiga SHV...|      Manual|\n",
      "|Hyundai i20 1.4 C...|      Manual|\n",
      "|      Maruti Alto LX|      Manual|\n",
      "|Hyundai i20 2015-...|      Manual|\n",
      "|Mahindra Verito 1...|      Manual|\n",
      "+--------------------+------------+\n",
      "only showing top 20 rows\n",
      "\n"
     ]
    }
   ],
   "source": [
    "usedCarDF.select(\"NAME\",\"TRANSMISSION\").show()"
   ]
  },
  {
   "cell_type": "code",
   "execution_count": 82,
   "metadata": {},
   "outputs": [
    {
     "data": {
      "text/plain": [
       "0.4123015581711755"
      ]
     },
     "execution_count": 82,
     "metadata": {},
     "output_type": "execute_result"
    }
   ],
   "source": [
    "usedCarDF.corr(\"SELLING_PRICE\",\"YEAR\")"
   ]
  },
  {
   "cell_type": "code",
   "execution_count": 83,
   "metadata": {},
   "outputs": [
    {
     "data": {
      "text/plain": [
       "1296043.5082286762"
      ]
     },
     "execution_count": 83,
     "metadata": {},
     "output_type": "execute_result"
    }
   ],
   "source": [
    "usedCarDF.cov(\"SELLING_PRICE\",\"YEAR\")"
   ]
  },
  {
   "cell_type": "code",
   "execution_count": 84,
   "metadata": {
    "scrolled": true
   },
   "outputs": [
    {
     "name": "stdout",
     "output_type": "stream",
     "text": [
      "== Physical Plan ==\n",
      "FileScan csv [SALES_ID#1680,NAME#1681,YEAR#1682,SELLING_PRICE#1683,KM_DRIVEN#1684,CITY_CODE#1685,STATE_CODE#1686,POSTAL_CODE#1687,FUEL#1688,SELLER_TYPE#1689,TRANSMISSION#1690,OWNER#1691,MILEAGE#1692,ENGINE#1693,MAX_POWER#1694,SEATS#1695,MILEAGE_UNIT#1696,MILEAGE_NO#1697,STATE_NAME#1698,CITY_NAME#1699,SOLD#1700,REGION#1701] Batched: false, DataFilters: [], Format: CSV, Location: InMemoryFileIndex(1 paths)[file:/C:/Users/avi.koyani/OneDrive/Cape_Stone/Jupyter/result_final.csv], PartitionFilters: [], PushedFilters: [], ReadSchema: struct<SALES_ID:int,NAME:string,YEAR:int,SELLING_PRICE:int,KM_DRIVEN:int,CITY_CODE:string,STATE_C...\n",
      "\n",
      "\n"
     ]
    }
   ],
   "source": [
    "usedCarDF.explain()"
   ]
  },
  {
   "cell_type": "code",
   "execution_count": 85,
   "metadata": {},
   "outputs": [
    {
     "name": "stdout",
     "output_type": "stream",
     "text": [
      "root\n",
      " |-- SALES_ID: integer (nullable = true)\n",
      " |-- NAME: string (nullable = true)\n",
      " |-- YEAR: integer (nullable = true)\n",
      " |-- SELLING_PRICE: integer (nullable = true)\n",
      " |-- KM_DRIVEN: integer (nullable = true)\n",
      " |-- CITY_CODE: string (nullable = true)\n",
      " |-- STATE_CODE: string (nullable = true)\n",
      " |-- POSTAL_CODE: integer (nullable = true)\n",
      " |-- FUEL: string (nullable = true)\n",
      " |-- SELLER_TYPE: string (nullable = true)\n",
      " |-- TRANSMISSION: string (nullable = true)\n",
      " |-- OWNER: string (nullable = true)\n",
      " |-- MILEAGE: string (nullable = true)\n",
      " |-- ENGINE: string (nullable = true)\n",
      " |-- MAX_POWER: string (nullable = true)\n",
      " |-- SEATS: integer (nullable = true)\n",
      " |-- MILEAGE_UNIT: string (nullable = true)\n",
      " |-- MILEAGE_NO: double (nullable = true)\n",
      " |-- STATE_NAME: string (nullable = true)\n",
      " |-- CITY_NAME: string (nullable = true)\n",
      " |-- SOLD: string (nullable = true)\n",
      " |-- REGION: string (nullable = true)\n",
      "\n"
     ]
    }
   ],
   "source": [
    "usedCarDF.printSchema()"
   ]
  },
  {
   "cell_type": "code",
   "execution_count": 86,
   "metadata": {},
   "outputs": [],
   "source": [
    "Split_Power = psf.split(usedCarDF[\"Max_Power\"],\" \")"
   ]
  },
  {
   "cell_type": "code",
   "execution_count": 87,
   "metadata": {},
   "outputs": [],
   "source": [
    "usedCarDF = usedCarDF.withColumn(\"Max_Power\",Split_Power.getItem(0).cast(\"integer\"))"
   ]
  },
  {
   "cell_type": "code",
   "execution_count": 88,
   "metadata": {},
   "outputs": [],
   "source": [
    "import pyspark.sql.functions as F"
   ]
  },
  {
   "cell_type": "code",
   "execution_count": 89,
   "metadata": {
    "scrolled": true
   },
   "outputs": [
    {
     "name": "stdout",
     "output_type": "stream",
     "text": [
      "+-------------+----+---------+---------+-----+----------+------+---+---+------+---------+------+\n",
      "|SELLING_PRICE|YEAR|KM_DRIVEN|MAX_POWER|SEATS|MILEAGE_NO|Diesel|CNG|LPG|Petrol|Automatic|Manual|\n",
      "+-------------+----+---------+---------+-----+----------+------+---+---+------+---------+------+\n",
      "|       450000|2014|   145500|       74|    5|      23.4|     1|  0|  0|     0|        0|     1|\n",
      "|       370000|2014|   120000|      103|    5|     21.14|     1|  0|  0|     0|        0|     1|\n",
      "|       158000|2006|   140000|       78|    5|      17.7|     0|  0|  0|     1|        0|     1|\n",
      "|       225000|2010|   127000|       90|    5|      23.0|     1|  0|  0|     0|        0|     1|\n",
      "|       130000|2007|   120000|       88|    5|      16.1|     0|  0|  0|     1|        0|     1|\n",
      "|       440000|2017|    45000|       81|    5|     20.14|     0|  0|  0|     1|        0|     1|\n",
      "|        96000|2007|   175000|       57|    5|      17.3|     0|  0|  1|     0|        0|     1|\n",
      "|        45000|2001|     5000|       37|    4|      16.1|     0|  0|  0|     1|        0|     1|\n",
      "|       350000|2011|    90000|       67|    5|     23.59|     1|  0|  0|     0|        0|     1|\n",
      "|       200000|2013|   169000|       68|    5|      20.0|     1|  0|  0|     0|        0|     1|\n",
      "|       500000|2014|    68000|      108|    5|     19.01|     1|  0|  0|     0|        0|     1|\n",
      "|        92000|2005|   100000|       60|    5|      17.3|     0|  0|  0|     1|        0|     1|\n",
      "|       280000|2009|   140000|       73|    5|      19.3|     1|  0|  0|     0|        0|     1|\n",
      "|       180000|2009|    90000|       67|    5|      18.9|     0|  0|  0|     1|        0|     1|\n",
      "|       400000|2016|    40000|       82|    5|     18.15|     0|  0|  0|     1|        0|     1|\n",
      "|       778000|2016|    70000|       88|    7|     24.52|     1|  0|  0|     0|        0|     1|\n",
      "|       500000|2012|    53000|       90|    5|      23.0|     1|  0|  0|     0|        0|     1|\n",
      "|       150000|2002|    80000|       46|    5|      19.7|     0|  0|  0|     1|        0|     1|\n",
      "|       680000|2016|   100000|       88|    5|     22.54|     1|  0|  0|     0|        0|     1|\n",
      "|       174000|2011|   100000|       64|    5|      21.0|     1|  0|  0|     0|        0|     1|\n",
      "+-------------+----+---------+---------+-----+----------+------+---+---+------+---------+------+\n",
      "only showing top 20 rows\n",
      "\n"
     ]
    }
   ],
   "source": [
    "fuel = usedCarDF.select(\"FUEL\").distinct().rdd.flatMap(lambda x: x).collect()\n",
    "transmission = usedCarDF.select(\"TRANSMISSION\").distinct().rdd.flatMap(lambda x: x).collect()\n",
    "fuelType = [F.when(F.col(\"FUEL\") == ty, 1).otherwise(0).alias(\"\" + ty) for ty in fuel]\n",
    "transmissionType = [F.when(F.col(\"TRANSMISSION\") == code, 1).otherwise(0).alias(\"\" + code) for code in transmission]\n",
    "usedCarDF = usedCarDF.select(\"SELLING_PRICE\", \"YEAR\", \"KM_DRIVEN\",\"MAX_POWER\",\"SEATS\",\"MILEAGE_NO\",\"SOLD\",*fuelType+transmissionType)\n",
    "usedCarDF_Sold = usedCarDF.filter(usedCarDF.SOLD==\"Y\").drop(\"SOLD\")\n",
    "usedCarDF_unSold=usedCarDF.filter(usedCarDF.SOLD==\"N\").drop(\"SOLD\")\n",
    "usedCarDF_Sold.show()"
   ]
  },
  {
   "cell_type": "code",
   "execution_count": 90,
   "metadata": {},
   "outputs": [],
   "source": [
    "from pyspark.sql.functions import col"
   ]
  },
  {
   "cell_type": "code",
   "execution_count": 91,
   "metadata": {},
   "outputs": [
    {
     "name": "stdout",
     "output_type": "stream",
     "text": [
      "root\n",
      " |-- SELLING_PRICE: integer (nullable = true)\n",
      " |-- YEAR: integer (nullable = true)\n",
      " |-- KM_DRIVEN: integer (nullable = true)\n",
      " |-- MAX_POWER: integer (nullable = true)\n",
      " |-- SEATS: integer (nullable = true)\n",
      " |-- MILEAGE_NO: double (nullable = true)\n",
      " |-- SOLD: string (nullable = true)\n",
      " |-- Diesel: integer (nullable = false)\n",
      " |-- CNG: integer (nullable = false)\n",
      " |-- LPG: integer (nullable = false)\n",
      " |-- Petrol: integer (nullable = false)\n",
      " |-- Automatic: integer (nullable = false)\n",
      " |-- Manual: integer (nullable = false)\n",
      "\n"
     ]
    }
   ],
   "source": [
    "usedCarDF.printSchema()"
   ]
  },
  {
   "cell_type": "code",
   "execution_count": 92,
   "metadata": {},
   "outputs": [],
   "source": [
    "from pyspark.ml.stat import Correlation"
   ]
  },
  {
   "cell_type": "code",
   "execution_count": 93,
   "metadata": {},
   "outputs": [],
   "source": [
    "from pyspark.ml.feature import VectorAssembler"
   ]
  },
  {
   "cell_type": "code",
   "execution_count": 94,
   "metadata": {},
   "outputs": [],
   "source": [
    "vector_col = \"corr_features\""
   ]
  },
  {
   "cell_type": "code",
   "execution_count": 95,
   "metadata": {},
   "outputs": [
    {
     "data": {
      "text/plain": [
       "['SELLING_PRICE',\n",
       " 'YEAR',\n",
       " 'KM_DRIVEN',\n",
       " 'MAX_POWER',\n",
       " 'SEATS',\n",
       " 'MILEAGE_NO',\n",
       " 'SOLD',\n",
       " 'Diesel',\n",
       " 'CNG',\n",
       " 'LPG',\n",
       " 'Petrol',\n",
       " 'Automatic',\n",
       " 'Manual']"
      ]
     },
     "execution_count": 95,
     "metadata": {},
     "output_type": "execute_result"
    }
   ],
   "source": [
    "usedCarDF.columns"
   ]
  },
  {
   "cell_type": "code",
   "execution_count": 103,
   "metadata": {},
   "outputs": [],
   "source": [
    "column_list= usedCarDF_Sold.columns\n"
   ]
  },
  {
   "cell_type": "code",
   "execution_count": 104,
   "metadata": {},
   "outputs": [
    {
     "data": {
      "text/plain": [
       "['SELLING_PRICE',\n",
       " 'YEAR',\n",
       " 'KM_DRIVEN',\n",
       " 'MAX_POWER',\n",
       " 'SEATS',\n",
       " 'MILEAGE_NO',\n",
       " 'Diesel',\n",
       " 'CNG',\n",
       " 'LPG',\n",
       " 'Petrol',\n",
       " 'Automatic',\n",
       " 'Manual']"
      ]
     },
     "execution_count": 104,
     "metadata": {},
     "output_type": "execute_result"
    }
   ],
   "source": [
    "column_list"
   ]
  },
  {
   "cell_type": "code",
   "execution_count": 113,
   "metadata": {
    "scrolled": false
   },
   "outputs": [
    {
     "name": "stdout",
     "output_type": "stream",
     "text": [
      "SELLING_PRICE 1.0\n",
      "YEAR 0.41633780251166896\n",
      "KM_DRIVEN -0.23536376181512805\n",
      "MAX_POWER 0.7787732815949355\n",
      "SEATS 0.009365095128508102\n",
      "MILEAGE_NO -0.10077194169192169\n",
      "Diesel 0.19098213504877337\n",
      "CNG -0.021031438766946558\n",
      "LPG -0.02943889643545322\n",
      "Petrol -0.18541170589683892\n",
      "Automatic 0.6030166122876204\n",
      "Manual -0.6030166122876205\n"
     ]
    }
   ],
   "source": [
    "for i in column_list:\n",
    "    print(i,usedCarDF_Sold.corr(\"SELLING_PRICE\",i))"
   ]
  },
  {
   "cell_type": "code",
   "execution_count": 114,
   "metadata": {},
   "outputs": [
    {
     "name": "stdout",
     "output_type": "stream",
     "text": [
      "SELLING_PRICE 1.0\n",
      "YEAR 0.41195436159198523\n",
      "KM_DRIVEN -0.21767236571895754\n",
      "MAX_POWER 0.7389628647884097\n",
      "SEATS 0.05384188847352593\n",
      "MILEAGE_NO -0.1355470382306577\n",
      "Diesel 0.21114703476810504\n",
      "CNG -0.0366968418394256\n",
      "LPG -0.0381722432806315\n",
      "Petrol -0.19993798762929735\n",
      "Automatic 0.5853797441685367\n",
      "Manual -0.5853797441685367\n"
     ]
    }
   ],
   "source": [
    "for i in column_list:\n",
    "    print(i,usedCarDF_unSold.corr(\"SELLING_PRICE\",i))"
   ]
  },
  {
   "cell_type": "code",
   "execution_count": null,
   "metadata": {},
   "outputs": [],
   "source": [
    "from pyspark.ml.stat import Correlation\n"
   ]
  },
  {
   "cell_type": "code",
   "execution_count": null,
   "metadata": {
    "scrolled": false
   },
   "outputs": [],
   "source": [
    "Correlation.corr(usedCarDF,\"SELLING_PRICE\")"
   ]
  },
  {
   "cell_type": "code",
   "execution_count": null,
   "metadata": {},
   "outputs": [],
   "source": []
  }
 ],
 "metadata": {
  "kernelspec": {
   "display_name": "Python 3 (ipykernel)",
   "language": "python",
   "name": "python3"
  },
  "language_info": {
   "codemirror_mode": {
    "name": "ipython",
    "version": 3
   },
   "file_extension": ".py",
   "mimetype": "text/x-python",
   "name": "python",
   "nbconvert_exporter": "python",
   "pygments_lexer": "ipython3",
   "version": "3.9.12"
  }
 },
 "nbformat": 4,
 "nbformat_minor": 2
}

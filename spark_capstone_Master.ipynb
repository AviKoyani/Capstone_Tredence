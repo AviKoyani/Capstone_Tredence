{
 "cells": [
  {
   "cell_type": "markdown",
   "id": "eae6e1c0",
   "metadata": {},
   "source": [
    "## Batch-3 Aug "
   ]
  },
  {
   "cell_type": "markdown",
   "id": "26bedd4a",
   "metadata": {},
   "source": [
    "## Group-9  Avi Koyani"
   ]
  },
  {
   "cell_type": "code",
   "execution_count": 1,
   "id": "5241622a",
   "metadata": {},
   "outputs": [],
   "source": [
    "import findspark\n",
    "findspark.init()\n",
    "import pyspark"
   ]
  },
  {
   "cell_type": "code",
   "execution_count": 2,
   "id": "64762f9b",
   "metadata": {},
   "outputs": [],
   "source": [
    "from pyspark.sql import SparkSession\n",
    "spark = SparkSession.builder.appName(\"cap_stone\").getOrCreate()\n",
    "import pyspark.sql.functions as psf"
   ]
  },
  {
   "cell_type": "code",
   "execution_count": null,
   "id": "84b16686",
   "metadata": {},
   "outputs": [],
   "source": []
  },
  {
   "cell_type": "markdown",
   "id": "0fc383ed",
   "metadata": {},
   "source": [
    "## Imporing Data"
   ]
  },
  {
   "cell_type": "code",
   "execution_count": 3,
   "id": "39fc754b",
   "metadata": {},
   "outputs": [],
   "source": [
    "Txn = spark.read.options(inferschema = 'True',delimiter = ',',header = 'True')\\\n",
    "      .csv('Car_sales_transactions.csv')"
   ]
  },
  {
   "cell_type": "code",
   "execution_count": 4,
   "id": "413f03e6",
   "metadata": {},
   "outputs": [
    {
     "name": "stdout",
     "output_type": "stream",
     "text": [
      "root\n",
      " |-- Sales_ID: integer (nullable = true)\n",
      " |-- Name: string (nullable = true)\n",
      " |-- Year: integer (nullable = true)\n",
      " |-- Selling_Price: integer (nullable = true)\n",
      " |-- km_Driven: integer (nullable = true)\n",
      " |-- City_Code: string (nullable = true)\n",
      " |-- State_Code: string (nullable = true)\n",
      " |-- Postal_Code: integer (nullable = true)\n",
      " |-- Fuel: string (nullable = true)\n",
      " |-- Seller_Type: string (nullable = true)\n",
      " |-- Transmission: string (nullable = true)\n",
      " |-- Owner: string (nullable = true)\n",
      " |-- Mileage: string (nullable = true)\n",
      " |-- Engine: string (nullable = true)\n",
      " |-- Max_Power: string (nullable = true)\n",
      " |-- Seats: integer (nullable = true)\n",
      "\n"
     ]
    }
   ],
   "source": [
    "Txn.printSchema()"
   ]
  },
  {
   "cell_type": "code",
   "execution_count": 5,
   "id": "f1bd812c",
   "metadata": {},
   "outputs": [],
   "source": [
    "City_Master = spark.read.options(inferschema = 'True',delimiter = ',',header = 'True')\\\n",
    "      .csv('City_Master.csv')\n",
    "Postal_Code_Master = spark.read.options(inferschema = 'True',delimiter = ',',header = 'True')\\\n",
    "      .csv('Postal_Code_Master.csv')\n",
    "Region_Master = spark.read.options(inferschema = 'True',delimiter = ',',header = 'True')\\\n",
    "      .csv('Region_Master.csv')\n",
    "Region_State_Mapping = spark.read.options(inferschema = 'True',delimiter = ',',header = 'True')\\\n",
    "      .csv('Region_State_Mapping.csv')\n",
    "Sales_Status = spark.read.options(inferschema = 'True',delimiter = ',',header = 'True')\\\n",
    "      .csv('Sales_Status.csv')\n",
    "State_Master = spark.read.options(inferschema = 'True',delimiter = ',',header = 'True')\\\n",
    "      .csv('State_Master.csv')"
   ]
  },
  {
   "cell_type": "code",
   "execution_count": 6,
   "id": "c0bd03a7",
   "metadata": {},
   "outputs": [
    {
     "data": {
      "text/plain": [
       "1"
      ]
     },
     "execution_count": 6,
     "metadata": {},
     "output_type": "execute_result"
    }
   ],
   "source": [
    "Postal_Code_Master.rdd.getNumPartitions()"
   ]
  },
  {
   "cell_type": "code",
   "execution_count": null,
   "id": "603b7b79",
   "metadata": {},
   "outputs": [],
   "source": []
  },
  {
   "cell_type": "code",
   "execution_count": 7,
   "id": "28f4a792",
   "metadata": {},
   "outputs": [
    {
     "name": "stdout",
     "output_type": "stream",
     "text": [
      "root\n",
      " |-- Region_Code: string (nullable = true)\n",
      " |-- Region: string (nullable = true)\n",
      "\n"
     ]
    }
   ],
   "source": [
    "Region_Master.printSchema()"
   ]
  },
  {
   "cell_type": "code",
   "execution_count": null,
   "id": "cb39bf80",
   "metadata": {},
   "outputs": [],
   "source": []
  },
  {
   "cell_type": "markdown",
   "id": "daacf310",
   "metadata": {},
   "source": [
    "## Joining data"
   ]
  },
  {
   "cell_type": "code",
   "execution_count": 8,
   "id": "bb6a067b",
   "metadata": {},
   "outputs": [],
   "source": [
    "master_pyspark = Txn.join(City_Master,\"City_Code\",\"left\").join(Region_State_Mapping,\"State_Code\",\"left\")\\\n",
    "   .join(Sales_Status,\"Sales_ID\",\"left\").join(State_Master,\"State_Code\",\"left\")\\\n",
    "   .join(Region_Master,\"Region_Code\",\"left\")"
   ]
  },
  {
   "cell_type": "code",
   "execution_count": 9,
   "id": "91af6903",
   "metadata": {},
   "outputs": [
    {
     "name": "stdout",
     "output_type": "stream",
     "text": [
      "root\n",
      " |-- Region_Code: string (nullable = true)\n",
      " |-- State_Code: string (nullable = true)\n",
      " |-- Sales_ID: integer (nullable = true)\n",
      " |-- City_Code: string (nullable = true)\n",
      " |-- Name: string (nullable = true)\n",
      " |-- Year: integer (nullable = true)\n",
      " |-- Selling_Price: integer (nullable = true)\n",
      " |-- km_Driven: integer (nullable = true)\n",
      " |-- Postal_Code: integer (nullable = true)\n",
      " |-- Fuel: string (nullable = true)\n",
      " |-- Seller_Type: string (nullable = true)\n",
      " |-- Transmission: string (nullable = true)\n",
      " |-- Owner: string (nullable = true)\n",
      " |-- Mileage: string (nullable = true)\n",
      " |-- Engine: string (nullable = true)\n",
      " |-- Max_Power: string (nullable = true)\n",
      " |-- Seats: integer (nullable = true)\n",
      " |-- City_Name: string (nullable = true)\n",
      " |-- State_Code: string (nullable = true)\n",
      " |-- Sold: string (nullable = true)\n",
      " |-- State_Name: string (nullable = true)\n",
      " |-- Region: string (nullable = true)\n",
      "\n"
     ]
    }
   ],
   "source": [
    "master_pyspark.printSchema()"
   ]
  },
  {
   "cell_type": "code",
   "execution_count": null,
   "id": "6894604d",
   "metadata": {},
   "outputs": [],
   "source": []
  },
  {
   "cell_type": "markdown",
   "id": "8745fd2a",
   "metadata": {},
   "source": [
    "## Extracting Imp Information From columns"
   ]
  },
  {
   "cell_type": "code",
   "execution_count": 10,
   "id": "344048f6",
   "metadata": {},
   "outputs": [],
   "source": [
    "Split_Mileage = pyspark.sql.functions.split(master_pyspark['Mileage'],\" \")\n",
    "#Split_Power = master_pyspark.select(split(\"Max_Power\",\" \").as(\"a\")).drop(\"Max_Power\")\n",
    "Split_Power = psf.split(master_pyspark[\"Max_Power\"],\" \")\n",
    "Split_Engine = psf.split(master_pyspark[\"Engine\"],\" \")\n",
    "Split_Name = psf.split(master_pyspark['Name'],\" \")"
   ]
  },
  {
   "cell_type": "code",
   "execution_count": 11,
   "id": "dab58137",
   "metadata": {},
   "outputs": [
    {
     "data": {
      "text/plain": [
       "Column<'split(Max_Power,  , -1)'>"
      ]
     },
     "execution_count": 11,
     "metadata": {},
     "output_type": "execute_result"
    }
   ],
   "source": [
    "Split_Power"
   ]
  },
  {
   "cell_type": "code",
   "execution_count": 12,
   "id": "8942e672",
   "metadata": {},
   "outputs": [
    {
     "data": {
      "text/plain": [
       "Column<'split(Mileage,  , -1)'>"
      ]
     },
     "execution_count": 12,
     "metadata": {},
     "output_type": "execute_result"
    }
   ],
   "source": [
    "Split_Mileage"
   ]
  },
  {
   "cell_type": "code",
   "execution_count": null,
   "id": "b522fd66",
   "metadata": {},
   "outputs": [],
   "source": []
  },
  {
   "cell_type": "code",
   "execution_count": 13,
   "id": "e7233bf7",
   "metadata": {},
   "outputs": [],
   "source": [
    "master_pyspark1 = master_pyspark.withColumn('Mileage',Split_Mileage.getItem(0).cast(\"integer\"))\\\n",
    "        .withColumn('Max_Power',Split_Power.getItem(0).cast(\"integer\"))\\\n",
    "        .withColumn('Engine',Split_Engine.getItem(0).cast(\"integer\"))\\\n",
    "        .withColumn('Brand',Split_Name.getItem(0))\\\n",
    "        .withColumn('Model',Split_Name.getItem(1))"
   ]
  },
  {
   "cell_type": "code",
   "execution_count": null,
   "id": "c5c7fb72",
   "metadata": {},
   "outputs": [],
   "source": []
  },
  {
   "cell_type": "markdown",
   "id": "1de6221f",
   "metadata": {},
   "source": [
    "## Dropping Unnecessary columns"
   ]
  },
  {
   "cell_type": "code",
   "execution_count": 14,
   "id": "d868cb08",
   "metadata": {},
   "outputs": [],
   "source": [
    "master_pyspark2 = master_pyspark1.drop('Region_Code').drop('State_Code').drop('City_Code').drop('Name')"
   ]
  },
  {
   "cell_type": "code",
   "execution_count": 15,
   "id": "d733662e",
   "metadata": {},
   "outputs": [
    {
     "name": "stdout",
     "output_type": "stream",
     "text": [
      "root\n",
      " |-- Sales_ID: integer (nullable = true)\n",
      " |-- Year: integer (nullable = true)\n",
      " |-- Selling_Price: integer (nullable = true)\n",
      " |-- km_Driven: integer (nullable = true)\n",
      " |-- Postal_Code: integer (nullable = true)\n",
      " |-- Fuel: string (nullable = true)\n",
      " |-- Seller_Type: string (nullable = true)\n",
      " |-- Transmission: string (nullable = true)\n",
      " |-- Owner: string (nullable = true)\n",
      " |-- Mileage: integer (nullable = true)\n",
      " |-- Engine: integer (nullable = true)\n",
      " |-- Max_Power: integer (nullable = true)\n",
      " |-- Seats: integer (nullable = true)\n",
      " |-- City_Name: string (nullable = true)\n",
      " |-- Sold: string (nullable = true)\n",
      " |-- State_Name: string (nullable = true)\n",
      " |-- Region: string (nullable = true)\n",
      " |-- Brand: string (nullable = true)\n",
      " |-- Model: string (nullable = true)\n",
      "\n"
     ]
    }
   ],
   "source": [
    "master_pyspark2.printSchema()"
   ]
  },
  {
   "cell_type": "code",
   "execution_count": 16,
   "id": "7643bd3b",
   "metadata": {},
   "outputs": [
    {
     "name": "stdout",
     "output_type": "stream",
     "text": [
      "+-------+\n",
      "|  Brand|\n",
      "+-------+\n",
      "| Maruti|\n",
      "|  Skoda|\n",
      "|  Honda|\n",
      "|Hyundai|\n",
      "| Maruti|\n",
      "+-------+\n",
      "only showing top 5 rows\n",
      "\n"
     ]
    }
   ],
   "source": [
    "master_pyspark2.select('Brand').show(5)"
   ]
  },
  {
   "cell_type": "code",
   "execution_count": 17,
   "id": "7559195e",
   "metadata": {},
   "outputs": [],
   "source": [
    "master_pyspark2 = master_pyspark2.withColumn(\"Brand\", psf.when(master_pyspark2.Brand == \"Land\",\"Land Rover\")\\\n",
    "                                             .otherwise(master_pyspark2.Brand))"
   ]
  },
  {
   "cell_type": "code",
   "execution_count": 18,
   "id": "ae56f3bb",
   "metadata": {},
   "outputs": [
    {
     "name": "stdout",
     "output_type": "stream",
     "text": [
      "+----------+\n",
      "|     Brand|\n",
      "+----------+\n",
      "|Land Rover|\n",
      "|Land Rover|\n",
      "|Land Rover|\n",
      "|Land Rover|\n",
      "|Land Rover|\n",
      "|Land Rover|\n",
      "+----------+\n",
      "\n"
     ]
    }
   ],
   "source": [
    "master_pyspark2.select(\"Brand\").where(master_pyspark2.Brand == \"Land Rover\").show()"
   ]
  },
  {
   "cell_type": "code",
   "execution_count": null,
   "id": "4eb5f123",
   "metadata": {},
   "outputs": [],
   "source": []
  },
  {
   "cell_type": "code",
   "execution_count": null,
   "id": "8e2a1382",
   "metadata": {},
   "outputs": [],
   "source": []
  },
  {
   "cell_type": "markdown",
   "id": "91b09c08",
   "metadata": {},
   "source": [
    "## Segregating Sold and unsold cars"
   ]
  },
  {
   "cell_type": "code",
   "execution_count": 19,
   "id": "950b092f",
   "metadata": {},
   "outputs": [],
   "source": [
    "sold_pyspark = master_pyspark2.filter(master_pyspark2['Sold'] == 'Y')\n",
    "unsold_pyspark = master_pyspark2.filter(master_pyspark2['Sold'] == 'N')"
   ]
  },
  {
   "cell_type": "code",
   "execution_count": 20,
   "id": "830f5e77",
   "metadata": {},
   "outputs": [
    {
     "data": {
      "text/plain": [
       "2000"
      ]
     },
     "execution_count": 20,
     "metadata": {},
     "output_type": "execute_result"
    }
   ],
   "source": [
    "sold_pyspark.count()"
   ]
  },
  {
   "cell_type": "code",
   "execution_count": 21,
   "id": "1b7f3471",
   "metadata": {},
   "outputs": [
    {
     "data": {
      "text/plain": [
       "5906"
      ]
     },
     "execution_count": 21,
     "metadata": {},
     "output_type": "execute_result"
    }
   ],
   "source": [
    "unsold_pyspark.count()"
   ]
  },
  {
   "cell_type": "code",
   "execution_count": null,
   "id": "e1aea629",
   "metadata": {},
   "outputs": [],
   "source": []
  },
  {
   "cell_type": "markdown",
   "id": "54325851",
   "metadata": {},
   "source": [
    "## Q3 Brand Wise sales"
   ]
  },
  {
   "cell_type": "code",
   "execution_count": 22,
   "id": "3e97ac0b",
   "metadata": {},
   "outputs": [],
   "source": [
    "Brand_Wise = sold_pyspark.groupby(\"Brand\").agg(psf.count(\"Sales_ID\").alias(\"Count\"),psf.avg(\"Selling_Price\").alias(\"Avg_Selling_Price\"))\\\n",
    "     .sort(psf.desc(\"Count\"))"
   ]
  },
  {
   "cell_type": "code",
   "execution_count": 23,
   "id": "2126bd7e",
   "metadata": {},
   "outputs": [
    {
     "name": "stdout",
     "output_type": "stream",
     "text": [
      "+-------------+-----+------------------+\n",
      "|        Brand|Count| Avg_Selling_Price|\n",
      "+-------------+-----+------------------+\n",
      "|       Maruti|  597| 405231.9631490787|\n",
      "|      Hyundai|  332|          463259.0|\n",
      "|     Mahindra|  201| 558303.4278606966|\n",
      "|         Tata|  178|  369480.297752809|\n",
      "|       Toyota|  126| 1085555.507936508|\n",
      "|        Honda|  124| 582581.8225806452|\n",
      "|         Ford|   92| 562228.2282608695|\n",
      "|      Renault|   56|419035.66071428574|\n",
      "|    Chevrolet|   56|279499.96428571426|\n",
      "|   Volkswagen|   39| 492487.1538461539|\n",
      "|       Nissan|   33|420969.63636363635|\n",
      "|          BMW|   29| 4606551.724137931|\n",
      "|       Jaguar|   21|2917857.1428571427|\n",
      "|        Skoda|   20|          747749.9|\n",
      "|        Volvo|   19|3547368.4210526315|\n",
      "|Mercedes-Benz|   16|         2767187.5|\n",
      "|       Datsun|   16|       297249.9375|\n",
      "|        Lexus|   11|         5150000.0|\n",
      "|         Jeep|    9|2551666.5555555555|\n",
      "|         Audi|    9|2637777.6666666665|\n",
      "+-------------+-----+------------------+\n",
      "only showing top 20 rows\n",
      "\n"
     ]
    }
   ],
   "source": [
    "Brand_Wise.show()"
   ]
  },
  {
   "cell_type": "code",
   "execution_count": null,
   "id": "a07a2e99",
   "metadata": {},
   "outputs": [],
   "source": []
  },
  {
   "cell_type": "code",
   "execution_count": null,
   "id": "1e94133e",
   "metadata": {},
   "outputs": [],
   "source": []
  },
  {
   "cell_type": "markdown",
   "id": "9e6930d5",
   "metadata": {},
   "source": [
    "## Q4 Loaction wise"
   ]
  },
  {
   "cell_type": "code",
   "execution_count": 24,
   "id": "4ba8da8b",
   "metadata": {},
   "outputs": [],
   "source": [
    "Location_Wise = sold_pyspark.groupby(\"Region\",\"State_Name\").agg(psf.count(\"Sales_ID\").alias(\"Count\")).sort(psf.desc(\"Count\"))"
   ]
  },
  {
   "cell_type": "code",
   "execution_count": 25,
   "id": "f1312d14",
   "metadata": {},
   "outputs": [
    {
     "name": "stdout",
     "output_type": "stream",
     "text": [
      "+----------+--------------+-----+\n",
      "|    Region|    State_Name|Count|\n",
      "+----------+--------------+-----+\n",
      "|     South|    Tamil Nadu|  230|\n",
      "|     South|     Karnataka|  223|\n",
      "|      West|       Gujarat|  208|\n",
      "|      West|   Maharashtra|  189|\n",
      "|   Central| Uttar Pradesh|  145|\n",
      "|     South|        Kerala|  130|\n",
      "|      East|     Jharkhand|  127|\n",
      "|     North|         Delhi|   80|\n",
      "|     South|     Telangana|   72|\n",
      "|   Central|   Uttarakhand|   70|\n",
      "|   Central|Madhya Pradesh|   69|\n",
      "|      East|   West Bengal|   69|\n",
      "|North East|        Sikkim|   69|\n",
      "|      East|         Bihar|   69|\n",
      "|     South|Andhra Pradesh|   68|\n",
      "|      East|        Odisha|   64|\n",
      "|     North|        Punjab|   63|\n",
      "|     North|     Rajasthan|   55|\n",
      "+----------+--------------+-----+\n",
      "\n"
     ]
    }
   ],
   "source": [
    "Location_Wise.show()"
   ]
  },
  {
   "cell_type": "code",
   "execution_count": null,
   "id": "5f637e39",
   "metadata": {},
   "outputs": [],
   "source": []
  },
  {
   "cell_type": "code",
   "execution_count": null,
   "id": "5b1bee08",
   "metadata": {},
   "outputs": [],
   "source": []
  },
  {
   "cell_type": "markdown",
   "id": "f85562ee",
   "metadata": {},
   "source": [
    "### Revenue Generated:"
   ]
  },
  {
   "cell_type": "markdown",
   "id": "1ba158ad",
   "metadata": {},
   "source": [
    "##### Brandwise"
   ]
  },
  {
   "cell_type": "code",
   "execution_count": 26,
   "id": "b611a5e0",
   "metadata": {},
   "outputs": [
    {
     "name": "stdout",
     "output_type": "stream",
     "text": [
      "+--------+---------+\n",
      "|   Brand|  Revenue|\n",
      "+--------+---------+\n",
      "|  Maruti|241923482|\n",
      "| Hyundai|153801988|\n",
      "|  Toyota|136779994|\n",
      "|     BMW|133590000|\n",
      "|Mahindra|112218989|\n",
      "|   Honda| 72240146|\n",
      "|   Volvo| 67400000|\n",
      "|    Tata| 65767493|\n",
      "|  Jaguar| 61275000|\n",
      "|   Lexus| 56650000|\n",
      "+--------+---------+\n",
      "only showing top 10 rows\n",
      "\n"
     ]
    }
   ],
   "source": [
    "brand_revenue = sold_pyspark.groupBy(\"Brand\").sum(\"Selling_Price\")\n",
    "brand_revenue = brand_revenue.select(\"Brand\", psf.col(\"sum(Selling_Price)\").alias(\"Revenue\"))\n",
    "\n",
    "from pyspark.sql.functions import col\n",
    "brand_revenue.sort(col(\"Revenue\").desc()).show(10)"
   ]
  },
  {
   "cell_type": "markdown",
   "id": "4234e7ff",
   "metadata": {},
   "source": [
    "#### Statewise:\n"
   ]
  },
  {
   "cell_type": "code",
   "execution_count": 27,
   "id": "c73e1e6c",
   "metadata": {
    "scrolled": false
   },
   "outputs": [
    {
     "name": "stdout",
     "output_type": "stream",
     "text": [
      "+--------------+---------+\n",
      "|    State_Name|  Revenue|\n",
      "+--------------+---------+\n",
      "|    Tamil Nadu|151438988|\n",
      "|     Karnataka|143235148|\n",
      "|       Gujarat|141656988|\n",
      "|   Maharashtra|110386992|\n",
      "|     Jharkhand| 95757995|\n",
      "| Uttar Pradesh| 91596500|\n",
      "|        Kerala| 86655995|\n",
      "|Andhra Pradesh| 74728995|\n",
      "|         Delhi| 59100996|\n",
      "|   West Bengal| 52936996|\n",
      "+--------------+---------+\n",
      "only showing top 10 rows\n",
      "\n"
     ]
    }
   ],
   "source": [
    "state_revenue = sold_pyspark.groupBy(\"State_Name\").sum(\"Selling_Price\")\n",
    "state_revenue = state_revenue.select(\"State_Name\", col(\"sum(Selling_Price)\").alias(\"Revenue\"))\n",
    "\n",
    "from pyspark.sql.functions import col\n",
    "state_revenue.sort(col(\"Revenue\").desc()).show(10)"
   ]
  },
  {
   "cell_type": "markdown",
   "id": "bd8523e4",
   "metadata": {},
   "source": [
    "#### Top 10 States & Brands Revenue wise:  "
   ]
  },
  {
   "cell_type": "code",
   "execution_count": 28,
   "id": "8720921a",
   "metadata": {},
   "outputs": [
    {
     "name": "stdout",
     "output_type": "stream",
     "text": [
      "+-----------+--------+--------+\n",
      "| State_Name|   Brand| Revenue|\n",
      "+-----------+--------+--------+\n",
      "|  Karnataka|  Maruti|29020000|\n",
      "|    Gujarat|  Maruti|27308996|\n",
      "| Tamil Nadu|  Maruti|26353997|\n",
      "|  Karnataka| Hyundai|20889999|\n",
      "|Maharashtra|  Maruti|20516996|\n",
      "|  Jharkhand|     BMW|20250000|\n",
      "|     Kerala|  Maruti|18832000|\n",
      "|     Kerala|  Toyota|18235998|\n",
      "| Tamil Nadu|Mahindra|18182999|\n",
      "| Tamil Nadu| Hyundai|17312000|\n",
      "+-----------+--------+--------+\n",
      "only showing top 10 rows\n",
      "\n"
     ]
    }
   ],
   "source": [
    "from pyspark.sql.functions import col\n",
    "statebrand_revenue = sold_pyspark.groupBy(\"State_Name\",\"Brand\").sum(\"Selling_Price\")\n",
    "statebrand_revenue= statebrand_revenue.select(\"State_Name\",\"Brand\", col(\"sum(Selling_Price)\").alias(\"Revenue\")).sort(col(\"Revenue\").desc()).show(10)\n"
   ]
  },
  {
   "cell_type": "markdown",
   "id": "3df1f35e",
   "metadata": {},
   "source": [
    "#### Yearwise sales :"
   ]
  },
  {
   "cell_type": "code",
   "execution_count": 29,
   "id": "b8e6c92d",
   "metadata": {
    "scrolled": true
   },
   "outputs": [
    {
     "name": "stdout",
     "output_type": "stream",
     "text": [
      "+----+------------+\n",
      "|Year|Sales Number|\n",
      "+----+------------+\n",
      "|2017|         256|\n",
      "|2016|         225|\n",
      "|2015|         200|\n",
      "|2018|         187|\n",
      "|2013|         174|\n",
      "|2012|         159|\n",
      "|2011|         155|\n",
      "|2019|         154|\n",
      "|2014|         144|\n",
      "|2010|          96|\n",
      "|2009|          71|\n",
      "|2008|          43|\n",
      "|2007|          28|\n",
      "|2005|          25|\n",
      "|2006|          23|\n",
      "|2020|          19|\n",
      "|2004|          13|\n",
      "|2003|          10|\n",
      "|2002|           7|\n",
      "|2000|           5|\n",
      "|1999|           3|\n",
      "|2001|           2|\n",
      "|1994|           1|\n",
      "+----+------------+\n",
      "\n"
     ]
    }
   ],
   "source": [
    "from pyspark.sql.functions import sum,avg,max,count,min\n",
    "year_sales=sold_pyspark.groupBy(\"Year\").agg(count(\"*\").alias(\"Sales Number\")).sort(col(\"Sales Number\").desc()).show(25)"
   ]
  },
  {
   "cell_type": "markdown",
   "id": "8befa1dd",
   "metadata": {},
   "source": [
    "#### Most selling Brands Yearwise:"
   ]
  },
  {
   "cell_type": "code",
   "execution_count": 30,
   "id": "1ba2b243",
   "metadata": {},
   "outputs": [
    {
     "name": "stdout",
     "output_type": "stream",
     "text": [
      "+----+-------+---------+\n",
      "|Year|  Brand|Unit_Sold|\n",
      "+----+-------+---------+\n",
      "|2017| Maruti|       73|\n",
      "|2016| Maruti|       65|\n",
      "|2015| Maruti|       64|\n",
      "|2018| Maruti|       60|\n",
      "|2017|Hyundai|       50|\n",
      "|2012| Maruti|       47|\n",
      "|2014| Maruti|       46|\n",
      "|2013| Maruti|       45|\n",
      "|2015|Hyundai|       42|\n",
      "|2019| Maruti|       36|\n",
      "+----+-------+---------+\n",
      "only showing top 10 rows\n",
      "\n"
     ]
    }
   ],
   "source": [
    "year_sales=sold_pyspark.groupBy(\"Year\",\"Brand\").agg(count(\"*\").alias(\"Unit_Sold\")).sort(col(\"Unit_Sold\").desc()).show(10)"
   ]
  },
  {
   "cell_type": "markdown",
   "id": "cbc682f4",
   "metadata": {},
   "source": [
    "#### Most selling Units based on CC"
   ]
  },
  {
   "cell_type": "code",
   "execution_count": 31,
   "id": "a3017186",
   "metadata": {
    "scrolled": false
   },
   "outputs": [
    {
     "name": "stdout",
     "output_type": "stream",
     "text": [
      "+------+------------+\n",
      "|Engine|Sales Number|\n",
      "+------+------------+\n",
      "|  1248|         239|\n",
      "|  1197|         214|\n",
      "|   998|         116|\n",
      "|   796|         115|\n",
      "|  2179|          94|\n",
      "|  1498|          81|\n",
      "|  1396|          80|\n",
      "|  1199|          68|\n",
      "|  2494|          61|\n",
      "|  2523|          58|\n",
      "+------+------------+\n",
      "only showing top 10 rows\n",
      "\n"
     ]
    }
   ],
   "source": [
    "year_sales=sold_pyspark.groupBy(\"Engine\").agg(count(\"*\").alias(\"Sales Number\")).sort(col(\"Sales Number\").desc()).show(10)"
   ]
  },
  {
   "cell_type": "markdown",
   "id": "59b50615",
   "metadata": {},
   "source": [
    "### Selling Price Analysis:"
   ]
  },
  {
   "cell_type": "markdown",
   "id": "87094fd0",
   "metadata": {},
   "source": [
    "#### Yearwise Analysis:"
   ]
  },
  {
   "cell_type": "code",
   "execution_count": 32,
   "id": "36079e74",
   "metadata": {},
   "outputs": [],
   "source": [
    "\n",
    "yearwise_sellingprice=sold_pyspark.groupBy(\"Year\").agg(  sum(\"Selling_Price\").alias(\"Total_Selling_Price\"), avg(\"Selling_Price\").alias(\"avg_Selling_Price\"),  \n",
    "                      max(\"Selling_Price\").alias(\"max_Selling_Price\") , min(\"Selling_Price\").alias(\"min_Selling_Price\")) .sort(col(\"Total_Selling_Price\").desc())\n"
   ]
  },
  {
   "cell_type": "code",
   "execution_count": 33,
   "id": "9382bddc",
   "metadata": {
    "scrolled": true
   },
   "outputs": [
    {
     "name": "stdout",
     "output_type": "stream",
     "text": [
      "+----+-------------------+------------------+-----------------+-----------------+---------------------------+\n",
      "|Year|Total_Selling_Price| avg_Selling_Price|max_Selling_Price|min_Selling_Price|round(avg_Selling_Price, 3)|\n",
      "+----+-------------------+------------------+-----------------+-----------------+---------------------------+\n",
      "|2019|          283122996| 1838461.012987013|          5800000|           270000|                1838461.013|\n",
      "|2017|          253754990|    991230.4296875|         10000000|           200000|                  991230.43|\n",
      "|2018|          203527996|1088385.0053475937|          6000000|           217000|                1088385.005|\n",
      "|2016|          157261995|          698942.2|          3000000|           150000|                   698942.2|\n",
      "|2015|          109182991|        545914.955|          2650000|           200000|                 545914.955|\n",
      "|2013|           87153989| 500884.9942528736|          3750000|            80000|                 500884.994|\n",
      "|2014|           71540991|       496812.4375|          1750000|           110000|                 496812.438|\n",
      "|2012|           55513994|349144.61635220126|          1400000|            64000|                 349144.616|\n",
      "|2011|           49947993| 322245.1161290323|          1700000|            45000|                 322245.116|\n",
      "|2010|           25238996| 262906.2083333333|           975000|            55000|                 262906.208|\n",
      "|2020|           16838999| 886263.1052631579|          2125000|           350000|                 886263.105|\n",
      "|2009|           15145997| 213323.9014084507|           561000|            88000|                 213323.901|\n",
      "|2008|            8643997|201023.18604651163|           570000|            70000|                 201023.186|\n",
      "|2007|            5330999|190392.82142857142|           626000|            60000|                 190392.821|\n",
      "|2005|            3631000|          145240.0|           800000|            65000|                   145240.0|\n",
      "|2006|            3110649|135245.60869565216|           250000|            67500|                 135245.609|\n",
      "|2004|            1358504|104500.30769230769|           275000|            31504|                 104500.308|\n",
      "|2003|            1025000|          102500.0|           300000|            35000|                   102500.0|\n",
      "|2002|             656000| 93714.28571428571|           150000|            40000|                  93714.286|\n",
      "|2000|             443000|           88600.0|           110000|            45000|                    88600.0|\n",
      "|1999|             147000|           49000.0|            55000|            40000|                    49000.0|\n",
      "|2001|             120000|           60000.0|            75000|            45000|                    60000.0|\n",
      "|1994|              45000|           45000.0|            45000|            45000|                    45000.0|\n",
      "+----+-------------------+------------------+-----------------+-----------------+---------------------------+\n",
      "\n"
     ]
    }
   ],
   "source": [
    "from pyspark.sql.functions import round\n",
    "yearwise_sellingprice.select(\"*\", round(col('avg_Selling_Price'),3)).show(25)"
   ]
  },
  {
   "cell_type": "markdown",
   "id": "e53dcd4c",
   "metadata": {},
   "source": [
    "#### Brandwise Analysis:"
   ]
  },
  {
   "cell_type": "code",
   "execution_count": 34,
   "id": "cd43a56d",
   "metadata": {},
   "outputs": [
    {
     "name": "stdout",
     "output_type": "stream",
     "text": [
      "+-------------+----------+-------------------+-----------------+-----------------+-----------------+\n",
      "|        Brand|Units_Sold|Total_Selling_Price|avg_Selling_Price|max_Selling_Price|min_Selling_Price|\n",
      "+-------------+----------+-------------------+-----------------+-----------------+-----------------+\n",
      "|        Lexus|        11|           56650000|        5150000.0|          5150000|          5150000|\n",
      "|          BMW|        29|          133590000|       4606551.72|          6000000|           975000|\n",
      "|   Land Rover|         1|            4500000|        4500000.0|          4500000|          4500000|\n",
      "|        Volvo|        19|           67400000|       3547368.42|         10000000|          2475000|\n",
      "|       Jaguar|        21|           61275000|       2917857.14|          3200000|          2450000|\n",
      "|Mercedes-Benz|        16|           44275000|        2767187.5|          6000000|           800000|\n",
      "|         Audi|         9|           23739999|       2637777.67|          3975000|          1300000|\n",
      "|         Jeep|         9|           22964999|       2551666.56|          4100000|          1600000|\n",
      "|           MG|         2|            3650000|        1825000.0|          1900000|          1750000|\n",
      "|          Kia|         2|            2543000|        1271500.0|          1900000|           643000|\n",
      "+-------------+----------+-------------------+-----------------+-----------------+-----------------+\n",
      "only showing top 10 rows\n",
      "\n"
     ]
    }
   ],
   "source": [
    "\n",
    "brandwise_sellingprice=sold_pyspark.groupBy(\"Brand\").agg( count(\"*\").alias(\"Units_Sold\"), sum(\"Selling_Price\").alias(\"Total_Selling_Price\"), round (avg(\"Selling_Price\"),2).alias(\"avg_Selling_Price\"),  \n",
    "                      max(\"Selling_Price\").alias(\"max_Selling_Price\") , min(\"Selling_Price\").alias(\"min_Selling_Price\")).sort(col(\"avg_Selling_Price\").desc()).show(10)\n",
    "\n",
    "#brandwise_sellingprice.select(\"*\", round(col('avg_Selling_Price'),3)).show(10)\n"
   ]
  },
  {
   "cell_type": "code",
   "execution_count": null,
   "id": "3cf07c14",
   "metadata": {},
   "outputs": [],
   "source": []
  },
  {
   "cell_type": "code",
   "execution_count": null,
   "id": "d5525829",
   "metadata": {},
   "outputs": [],
   "source": []
  },
  {
   "cell_type": "markdown",
   "id": "d1b77dd3",
   "metadata": {},
   "source": [
    "## Encoding"
   ]
  },
  {
   "cell_type": "code",
   "execution_count": 35,
   "id": "6406f57b",
   "metadata": {},
   "outputs": [],
   "source": [
    "usedCarDF = usedCarDF = spark.read.load(\"result_final.csv\", format=\"csv\", sep=\",\", inferSchema=\"true\", header=\"true\")"
   ]
  },
  {
   "cell_type": "code",
   "execution_count": 36,
   "id": "a51582be",
   "metadata": {},
   "outputs": [],
   "source": [
    "Split_Power = psf.split(usedCarDF[\"Max_Power\"],\" \")"
   ]
  },
  {
   "cell_type": "code",
   "execution_count": 37,
   "id": "8b752446",
   "metadata": {},
   "outputs": [],
   "source": [
    "usedCarDF = usedCarDF.withColumn(\"Max_Power\",Split_Power.getItem(0).cast(\"integer\"))"
   ]
  },
  {
   "cell_type": "code",
   "execution_count": 38,
   "id": "21574667",
   "metadata": {},
   "outputs": [],
   "source": [
    "import pyspark.sql.functions as F"
   ]
  },
  {
   "cell_type": "code",
   "execution_count": 39,
   "id": "25dd472a",
   "metadata": {},
   "outputs": [
    {
     "name": "stdout",
     "output_type": "stream",
     "text": [
      "+-------------+----+---------+---------+-----+----------+------+---+---+------+---------+------+\n",
      "|SELLING_PRICE|YEAR|KM_DRIVEN|MAX_POWER|SEATS|MILEAGE_NO|Diesel|CNG|LPG|Petrol|Automatic|Manual|\n",
      "+-------------+----+---------+---------+-----+----------+------+---+---+------+---------+------+\n",
      "|       450000|2014|   145500|       74|    5|      23.4|     1|  0|  0|     0|        0|     1|\n",
      "|       370000|2014|   120000|      103|    5|     21.14|     1|  0|  0|     0|        0|     1|\n",
      "|       158000|2006|   140000|       78|    5|      17.7|     0|  0|  0|     1|        0|     1|\n",
      "|       225000|2010|   127000|       90|    5|      23.0|     1|  0|  0|     0|        0|     1|\n",
      "|       130000|2007|   120000|       88|    5|      16.1|     0|  0|  0|     1|        0|     1|\n",
      "|       440000|2017|    45000|       81|    5|     20.14|     0|  0|  0|     1|        0|     1|\n",
      "|        96000|2007|   175000|       57|    5|      17.3|     0|  0|  1|     0|        0|     1|\n",
      "|        45000|2001|     5000|       37|    4|      16.1|     0|  0|  0|     1|        0|     1|\n",
      "|       350000|2011|    90000|       67|    5|     23.59|     1|  0|  0|     0|        0|     1|\n",
      "|       200000|2013|   169000|       68|    5|      20.0|     1|  0|  0|     0|        0|     1|\n",
      "|       500000|2014|    68000|      108|    5|     19.01|     1|  0|  0|     0|        0|     1|\n",
      "|        92000|2005|   100000|       60|    5|      17.3|     0|  0|  0|     1|        0|     1|\n",
      "|       280000|2009|   140000|       73|    5|      19.3|     1|  0|  0|     0|        0|     1|\n",
      "|       180000|2009|    90000|       67|    5|      18.9|     0|  0|  0|     1|        0|     1|\n",
      "|       400000|2016|    40000|       82|    5|     18.15|     0|  0|  0|     1|        0|     1|\n",
      "|       778000|2016|    70000|       88|    7|     24.52|     1|  0|  0|     0|        0|     1|\n",
      "|       500000|2012|    53000|       90|    5|      23.0|     1|  0|  0|     0|        0|     1|\n",
      "|       150000|2002|    80000|       46|    5|      19.7|     0|  0|  0|     1|        0|     1|\n",
      "|       680000|2016|   100000|       88|    5|     22.54|     1|  0|  0|     0|        0|     1|\n",
      "|       174000|2011|   100000|       64|    5|      21.0|     1|  0|  0|     0|        0|     1|\n",
      "+-------------+----+---------+---------+-----+----------+------+---+---+------+---------+------+\n",
      "only showing top 20 rows\n",
      "\n"
     ]
    }
   ],
   "source": [
    "fuel = usedCarDF.select(\"FUEL\").distinct().rdd.flatMap(lambda x: x).collect()\n",
    "transmission = usedCarDF.select(\"TRANSMISSION\").distinct().rdd.flatMap(lambda x: x).collect()\n",
    "fuelType = [F.when(F.col(\"FUEL\") == ty, 1).otherwise(0).alias(\"\" + ty) for ty in fuel]\n",
    "transmissionType = [F.when(F.col(\"TRANSMISSION\") == code, 1).otherwise(0).alias(\"\" + code) for code in transmission]\n",
    "usedCarDF = usedCarDF.select(\"SELLING_PRICE\", \"YEAR\", \"KM_DRIVEN\",\"MAX_POWER\",\"SEATS\",\"MILEAGE_NO\",\"SOLD\",*fuelType+transmissionType)\n",
    "usedCarDF_Sold = usedCarDF.filter(usedCarDF.SOLD==\"Y\").drop(\"SOLD\")\n",
    "usedCarDF_unSold=usedCarDF.filter(usedCarDF.SOLD==\"N\").drop(\"SOLD\")\n",
    "usedCarDF_Sold.show()"
   ]
  },
  {
   "cell_type": "code",
   "execution_count": null,
   "id": "75504ddb",
   "metadata": {},
   "outputs": [],
   "source": []
  },
  {
   "cell_type": "markdown",
   "id": "29b61f67",
   "metadata": {},
   "source": [
    "## Finding Correlation of different features with selling price"
   ]
  },
  {
   "cell_type": "code",
   "execution_count": 40,
   "id": "601b3191",
   "metadata": {},
   "outputs": [],
   "source": [
    "column_list= usedCarDF_Sold.columns"
   ]
  },
  {
   "cell_type": "code",
   "execution_count": null,
   "id": "880cefde",
   "metadata": {},
   "outputs": [],
   "source": []
  },
  {
   "cell_type": "markdown",
   "id": "3e1576f3",
   "metadata": {},
   "source": [
    "## Correlation for Sold Cars"
   ]
  },
  {
   "cell_type": "code",
   "execution_count": 41,
   "id": "7ba98574",
   "metadata": {},
   "outputs": [
    {
     "name": "stdout",
     "output_type": "stream",
     "text": [
      "SELLING_PRICE     1.0\n",
      "YEAR              0.41633780251166896\n",
      "KM_DRIVEN         -0.23536376181512805\n",
      "MAX_POWER         0.7787732815949355\n",
      "SEATS             0.009365095128508102\n",
      "MILEAGE_NO        -0.10077194169192169\n",
      "Diesel            0.19098213504877337\n",
      "CNG               -0.021031438766946558\n",
      "LPG               -0.02943889643545322\n",
      "Petrol            -0.18541170589683892\n",
      "Automatic         0.6030166122876204\n",
      "Manual            -0.6030166122876205\n"
     ]
    }
   ],
   "source": [
    "for i in column_list:\n",
    "    print(f'{i:15}   {usedCarDF_Sold.corr(\"SELLING_PRICE\",i)}')"
   ]
  },
  {
   "cell_type": "code",
   "execution_count": null,
   "id": "9f1c3ae4",
   "metadata": {},
   "outputs": [],
   "source": []
  },
  {
   "cell_type": "markdown",
   "id": "e1f48e5d",
   "metadata": {},
   "source": [
    "## Correlation for unsold Cars"
   ]
  },
  {
   "cell_type": "code",
   "execution_count": 64,
   "id": "c5e8f737",
   "metadata": {},
   "outputs": [
    {
     "name": "stdout",
     "output_type": "stream",
     "text": [
      "SELLING_PRICE     1.0\n",
      "YEAR              0.41195436159198523\n",
      "KM_DRIVEN         -0.21767236571895754\n",
      "MAX_POWER         0.7389628647884097\n",
      "SEATS             0.05384188847352593\n",
      "MILEAGE_NO        -0.1355470382306577\n",
      "Diesel            0.21114703476810504\n",
      "CNG               -0.0366968418394256\n",
      "LPG               -0.0381722432806315\n",
      "Petrol            -0.19993798762929735\n",
      "Automatic         0.5853797441685367\n",
      "Manual            -0.5853797441685367\n"
     ]
    }
   ],
   "source": [
    "for i in column_list:\n",
    "    print(f'{i:15}   {usedCarDF_unSold.corr(\"SELLING_PRICE\",i)}')"
   ]
  },
  {
   "cell_type": "code",
   "execution_count": null,
   "id": "8ca3853b",
   "metadata": {},
   "outputs": [],
   "source": []
  }
 ],
 "metadata": {
  "kernelspec": {
   "display_name": "Python 3 (ipykernel)",
   "language": "python",
   "name": "python3"
  },
  "language_info": {
   "codemirror_mode": {
    "name": "ipython",
    "version": 3
   },
   "file_extension": ".py",
   "mimetype": "text/x-python",
   "name": "python",
   "nbconvert_exporter": "python",
   "pygments_lexer": "ipython3",
   "version": "3.9.12"
  }
 },
 "nbformat": 4,
 "nbformat_minor": 5
}
